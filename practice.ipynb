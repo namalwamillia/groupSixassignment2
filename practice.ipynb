{
 "cells": [
  {
   "cell_type": "markdown",
   "metadata": {},
   "source": [
    "LU decomposition"
   ]
  },
  {
   "cell_type": "code",
   "execution_count": 1,
   "metadata": {},
   "outputs": [
    {
     "name": "stdout",
     "output_type": "stream",
     "text": [
      "[[0. 1. 0.]\n",
      " [1. 0. 0.]\n",
      " [0. 0. 1.]] [[ 1.    0.    0.  ]\n",
      " [ 0.5   1.    0.  ]\n",
      " [ 0.75 -0.    1.  ]] [[ 8.    8.    7.  ]\n",
      " [ 0.   -1.   -1.5 ]\n",
      " [ 0.    0.    3.75]]\n"
     ]
    }
   ],
   "source": [
    "import numpy as np\n",
    "import scipy\n",
    "A = np.array([[4,3,2],[8,8,7],[6,6,9]])\n",
    "P, L, U = scipy.linalg.lu(A)\n",
    "print(P, L, U)"
   ]
  },
  {
   "cell_type": "markdown",
   "metadata": {},
   "source": [
    "QR decomposition"
   ]
  },
  {
   "cell_type": "code",
   "execution_count": 2,
   "metadata": {},
   "outputs": [
    {
     "name": "stdout",
     "output_type": "stream",
     "text": [
      "[[-0.89442719 -0.4472136 ]\n",
      " [-0.4472136   0.89442719]] [[-4.47213595 -3.13049517]\n",
      " [ 0.         -0.4472136 ]]\n"
     ]
    }
   ],
   "source": [
    "import numpy as np\n",
    "A=np.array([[4,3],[2,1]])\n",
    "Q,R =np.linalg.qr(A)\n",
    "print(Q,R)"
   ]
  },
  {
   "cell_type": "markdown",
   "metadata": {},
   "source": [
    "singular value decomposition"
   ]
  },
  {
   "cell_type": "code",
   "execution_count": 3,
   "metadata": {},
   "outputs": [
    {
     "name": "stdout",
     "output_type": "stream",
     "text": [
      "[[-0.26118278  0.92755323  0.26726124]\n",
      " [-0.59420931  0.0637036  -0.80178373]\n",
      " [-0.76072258 -0.36822122  0.53452248]] [8.41440825 0.44467267] [[-0.60452273 -0.79658789]\n",
      " [-0.79658789  0.60452273]]\n"
     ]
    }
   ],
   "source": [
    "import numpy as np\n",
    "A =np.array([[1,2],[3,4],[4,5]])\n",
    "U, S, VT = np.linalg.svd(A)\n",
    "print(U, S, VT)"
   ]
  },
  {
   "cell_type": "markdown",
   "metadata": {},
   "source": [
    "Eigenvalue decomposition"
   ]
  },
  {
   "cell_type": "code",
   "execution_count": 4,
   "metadata": {},
   "outputs": [
    {
     "name": "stdout",
     "output_type": "stream",
     "text": [
      "[-0.64575131  4.64575131] [[-0.8767397  -0.6354064 ]\n",
      " [ 0.48096517 -0.7721779 ]]\n"
     ]
    }
   ],
   "source": [
    "import numpy as np\n",
    "A=np.array([[1,3],[2,3]])\n",
    "eigenvalues, eigenvectors = np.linalg.eig(A)\n",
    "print(eigenvalues, eigenvectors)\n"
   ]
  },
  {
   "cell_type": "markdown",
   "metadata": {},
   "source": [
    "Cholesky decomposition"
   ]
  },
  {
   "cell_type": "code",
   "execution_count": 5,
   "metadata": {},
   "outputs": [
    {
     "name": "stdout",
     "output_type": "stream",
     "text": [
      "[[4. 0.]\n",
      " [1. 3.]]\n"
     ]
    }
   ],
   "source": [
    "import numpy as np\n",
    "A=np.array([[16,4],[4,10]])\n",
    "L= np.linalg.cholesky(A)\n",
    "print(L)"
   ]
  },
  {
   "cell_type": "markdown",
   "metadata": {},
   "source": [
    "GROUP SIX\n",
    "NAMALWA MILLIA 2023/DCSE/0070/SS\n",
    "ADOKORACH NANCY 2023/DCSE/0004/SS\n",
    "BAANDA GLORIA 2023/DCSE/0021/SS"
   ]
  }
 ],
 "metadata": {
  "kernelspec": {
   "display_name": "Python 3",
   "language": "python",
   "name": "python3"
  },
  "language_info": {
   "codemirror_mode": {
    "name": "ipython",
    "version": 3
   },
   "file_extension": ".py",
   "mimetype": "text/x-python",
   "name": "python",
   "nbconvert_exporter": "python",
   "pygments_lexer": "ipython3",
   "version": "3.11.5"
  }
 },
 "nbformat": 4,
 "nbformat_minor": 2
}
